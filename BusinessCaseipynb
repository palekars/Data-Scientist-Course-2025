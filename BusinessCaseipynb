{
  "cells": [
    {
      "cell_type": "code",
      "source": [
        "import numpy as np\n",
        "import pandas as pd\n",
        "import matplotlib.pyplot as plt\n",
        "import seaborn as sns\n",
        "import tensorflow as tf\n",
        "from tensorflow import keras\n",
        "from sklearn.model_selection import train_test_split\n",
        "from sklearn.preprocessing import StandardScaler"
      ],
      "metadata": {
        "id": "0EWNsYtxun1Y"
      },
      "id": "0EWNsYtxun1Y",
      "execution_count": 29,
      "outputs": []
    },
    {
      "cell_type": "code",
      "source": [],
      "metadata": {
        "id": "0ai1--Z1un31"
      },
      "id": "0ai1--Z1un31",
      "execution_count": null,
      "outputs": []
    },
    {
      "cell_type": "code",
      "source": [],
      "metadata": {
        "id": "UrtqT7Jyun6W"
      },
      "id": "UrtqT7Jyun6W",
      "execution_count": null,
      "outputs": []
    },
    {
      "cell_type": "code",
      "source": [],
      "metadata": {
        "id": "QUK2wTS5un87"
      },
      "id": "QUK2wTS5un87",
      "execution_count": null,
      "outputs": []
    },
    {
      "cell_type": "code",
      "source": [],
      "metadata": {
        "id": "ApbuD-5uun_b"
      },
      "id": "ApbuD-5uun_b",
      "execution_count": null,
      "outputs": []
    },
    {
      "cell_type": "code",
      "source": [],
      "metadata": {
        "id": "QjwdT2OcuoCM"
      },
      "id": "QjwdT2OcuoCM",
      "execution_count": null,
      "outputs": []
    },
    {
      "cell_type": "code",
      "source": [],
      "metadata": {
        "id": "tqkOEdkguoE_"
      },
      "id": "tqkOEdkguoE_",
      "execution_count": null,
      "outputs": []
    },
    {
      "cell_type": "code",
      "source": [],
      "metadata": {
        "id": "5ogUp8eXuoHa"
      },
      "id": "5ogUp8eXuoHa",
      "execution_count": null,
      "outputs": []
    },
    {
      "cell_type": "code",
      "source": [],
      "metadata": {
        "id": "erqnoi02uoK2"
      },
      "id": "erqnoi02uoK2",
      "execution_count": null,
      "outputs": []
    },
    {
      "cell_type": "code",
      "metadata": {
        "id": "9107d5f2"
      },
      "source": [
        "import pandas as pd\n",
        "\n",
        "raw_csv_data = pd.read_csv('/content/Audiobooks_data.csv',delimiter=',')\n",
        "unscaled_input_all=raw_csv_data.iloc[:,1:-1]\n",
        "target_all=raw_csv_data.iloc[:,-1]"
      ],
      "id": "9107d5f2",
      "execution_count": 32,
      "outputs": []
    },
    {
      "cell_type": "code",
      "source": [
        "#Balance the data set"
      ],
      "metadata": {
        "id": "Lo72gCVHyAl_"
      },
      "id": "Lo72gCVHyAl_",
      "execution_count": null,
      "outputs": []
    },
    {
      "cell_type": "code",
      "source": [
        "num_one_targets=int(np.sum(target_all))\n",
        "zero_targets_counter=0\n",
        "indices_to_remove=[]"
      ],
      "metadata": {
        "id": "XTeAIPZ3yApF"
      },
      "id": "XTeAIPZ3yApF",
      "execution_count": 33,
      "outputs": []
    },
    {
      "cell_type": "code",
      "source": [
        "for i in range(target_all.shape[0]):\n",
        "  if target_all[i]==0:\n",
        "    zero_targets_counter+=1\n",
        "    if zero_targets_counter>num_one_targets:\n",
        "      indices_to_remove.append(i)"
      ],
      "metadata": {
        "id": "KXsoVDPCyAr3"
      },
      "id": "KXsoVDPCyAr3",
      "execution_count": 34,
      "outputs": []
    },
    {
      "cell_type": "code",
      "source": [
        "unscled_inputs_equal_priors=unscaled_input_all.drop(indices_to_remove,axis=0)\n",
        "target_equal_priors=target_all.drop(indices_to_remove,axis=0).reset_index(drop=True)"
      ],
      "metadata": {
        "id": "J_gNmrFmyAuu"
      },
      "id": "J_gNmrFmyAuu",
      "execution_count": 43,
      "outputs": []
    },
    {
      "cell_type": "code",
      "source": [
        "#Standardize the inputs\n",
        "scaled_inputs=StandardScaler().fit_transform(unscled_inputs_equal_priors)"
      ],
      "metadata": {
        "id": "MjdeWdgVyAxL"
      },
      "id": "MjdeWdgVyAxL",
      "execution_count": 36,
      "outputs": []
    },
    {
      "cell_type": "code",
      "source": [
        "#shuffle the data\n",
        "shuffled_indices=np.arange(scaled_inputs.shape[0])\n",
        "np.random.shuffle(shuffled_indices)"
      ],
      "metadata": {
        "id": "pwBILiFSyA0S"
      },
      "id": "pwBILiFSyA0S",
      "execution_count": 40,
      "outputs": []
    },
    {
      "cell_type": "code",
      "source": [
        "shuffled_inputs=scaled_inputs[shuffled_indices]\n",
        "shuffled_targets=target_equal_priors[shuffled_indices]"
      ],
      "metadata": {
        "id": "fICV7cspyA3s"
      },
      "id": "fICV7cspyA3s",
      "execution_count": 45,
      "outputs": []
    },
    {
      "cell_type": "code",
      "source": [
        "sample_count=shuffled_inputs.shape[0]\n",
        "train_sample_count=int(0.8*sample_count)\n",
        "validation_sample_count=int(0.1*sample_count)\n",
        "test_sample_count=sample_count-train_sample_count-validation_sample_count"
      ],
      "metadata": {
        "id": "5APplburztam"
      },
      "id": "5APplburztam",
      "execution_count": 46,
      "outputs": []
    },
    {
      "cell_type": "code",
      "source": [
        "\n",
        "train_inputs=shuffled_inputs[:train_sample_count]\n",
        "train_targets=shuffled_targets[:train_sample_count]"
      ],
      "metadata": {
        "id": "_w2-LUFxztdk"
      },
      "id": "_w2-LUFxztdk",
      "execution_count": 47,
      "outputs": []
    },
    {
      "cell_type": "code",
      "source": [
        "validattion_inputs=shuffled_inputs[train_sample_count:train_sample_count+validation_sample_count]\n",
        "validation_targets=shuffled_targets[train_sample_count:train_sample_count+validation_sample_count]"
      ],
      "metadata": {
        "id": "kqQKREVVztif"
      },
      "id": "kqQKREVVztif",
      "execution_count": 49,
      "outputs": []
    },
    {
      "cell_type": "code",
      "source": [
        "test_inputs=shuffled_inputs[train_sample_count+validation_sample_count:]\n",
        "test_targets=shuffled_targets[train_sample_count+validation_sample_count:]"
      ],
      "metadata": {
        "id": "nerLGmGj0fsP"
      },
      "id": "nerLGmGj0fsP",
      "execution_count": 50,
      "outputs": []
    },
    {
      "cell_type": "code",
      "source": [
        "np.savez('Audiobooks_data_train',inputs=train_inputs,targets=train_targets)\n",
        "np.savez('Audiobooks_data_validation',inputs=validattion_inputs,targets=validation_targets)\n",
        "np.savez('Audiobooks_data_test',inputs=test_inputs,targets=test_targets)"
      ],
      "metadata": {
        "id": "Jz9ATA9D0f4M"
      },
      "id": "Jz9ATA9D0f4M",
      "execution_count": 51,
      "outputs": []
    },
    {
      "cell_type": "code",
      "source": [
        "npz=np.load('Audiobooks_data_train.npz')\n",
        "train_inputs=npz['inputs'].astype(float)\n",
        "train_targets=npz['targets'].astype(np.int32)"
      ],
      "metadata": {
        "id": "Ulk5RM4C0f7n"
      },
      "id": "Ulk5RM4C0f7n",
      "execution_count": 59,
      "outputs": []
    },
    {
      "cell_type": "code",
      "source": [
        "npz=np.load('Audiobooks_data_validation.npz')\n",
        "validation_inputs=npz['inputs'].astype(float)\n",
        "validation_targets=npz['targets'].astype(np.int32)\n",
        "\n",
        "validation_test=np.load('Audiobooks_data_test.npz')\n",
        "test_inputs=validation_test['inputs'].astype(float)\n",
        "test_targets=validation_test['targets'].astype(np.int32)"
      ],
      "metadata": {
        "id": "Oe1v-k5Dztl9"
      },
      "id": "Oe1v-k5Dztl9",
      "execution_count": 60,
      "outputs": []
    },
    {
      "cell_type": "code",
      "source": [
        "input_size=10\n",
        "output_size=2\n",
        "hidden_layer_size=50\n",
        "model=tf.keras.Sequential([\n",
        "    tf.keras.layers.Dense(hidden_layer_size,activation='relu', input_shape=(input_size,)),\n",
        "    tf.keras.layers.Dense(hidden_layer_size,activation='relu'),\n",
        "    tf.keras.layers.Dense(output_size,activation='softmax')\n",
        "])\n",
        "model.compile(optimizer='adam',loss='sparse_categorical_crossentropy',metrics=['accuracy'])"
      ],
      "metadata": {
        "colab": {
          "base_uri": "https://localhost:8080/"
        },
        "id": "BGkHVdJt2jCv",
        "outputId": "ac74a4c3-0569-4474-a2a5-01e9e1d2f990"
      },
      "id": "BGkHVdJt2jCv",
      "execution_count": 69,
      "outputs": [
        {
          "output_type": "stream",
          "name": "stderr",
          "text": [
            "/usr/local/lib/python3.12/dist-packages/keras/src/layers/core/dense.py:93: UserWarning: Do not pass an `input_shape`/`input_dim` argument to a layer. When using Sequential models, prefer using an `Input(shape)` object as the first layer in the model instead.\n",
            "  super().__init__(activity_regularizer=activity_regularizer, **kwargs)\n"
          ]
        }
      ]
    },
    {
      "cell_type": "code",
      "source": [
        "batchsize=100\n",
        "max_epochs=100\n",
        "early_stopping=tf.keras.callbacks.EarlyStopping(patience=2)\n",
        "model.fit(train_inputs,\n",
        "          train_targets,\n",
        "          batch_size=batchsize,\n",
        "          epochs=max_epochs,\n",
        "          callbacks=[early_stopping],\n",
        "          validation_data=(validation_inputs,validation_targets),\n",
        "          verbose=2)\n"
      ],
      "metadata": {
        "colab": {
          "base_uri": "https://localhost:8080/"
        },
        "id": "cgjFqElV2jFv",
        "outputId": "c594f382-6f5a-4539-f8ec-7d2670bfbe68"
      },
      "id": "cgjFqElV2jFv",
      "execution_count": 70,
      "outputs": [
        {
          "output_type": "stream",
          "name": "stdout",
          "text": [
            "Epoch 1/100\n",
            "36/36 - 1s - 37ms/step - accuracy: 0.7047 - loss: 0.5564 - val_accuracy: 0.7852 - val_loss: 0.4711\n",
            "Epoch 2/100\n",
            "36/36 - 0s - 13ms/step - accuracy: 0.7703 - loss: 0.4479 - val_accuracy: 0.8009 - val_loss: 0.4090\n",
            "Epoch 3/100\n",
            "36/36 - 0s - 9ms/step - accuracy: 0.7896 - loss: 0.4055 - val_accuracy: 0.8054 - val_loss: 0.3841\n",
            "Epoch 4/100\n",
            "36/36 - 0s - 8ms/step - accuracy: 0.7969 - loss: 0.3837 - val_accuracy: 0.8233 - val_loss: 0.3642\n",
            "Epoch 5/100\n",
            "36/36 - 0s - 9ms/step - accuracy: 0.7999 - loss: 0.3705 - val_accuracy: 0.8188 - val_loss: 0.3545\n",
            "Epoch 6/100\n",
            "36/36 - 0s - 4ms/step - accuracy: 0.8108 - loss: 0.3605 - val_accuracy: 0.8233 - val_loss: 0.3425\n",
            "Epoch 7/100\n",
            "36/36 - 0s - 8ms/step - accuracy: 0.8106 - loss: 0.3556 - val_accuracy: 0.8031 - val_loss: 0.3555\n",
            "Epoch 8/100\n",
            "36/36 - 0s - 4ms/step - accuracy: 0.8066 - loss: 0.3509 - val_accuracy: 0.8121 - val_loss: 0.3435\n"
          ]
        },
        {
          "output_type": "execute_result",
          "data": {
            "text/plain": [
              "<keras.src.callbacks.history.History at 0x7f2c680e5d00>"
            ]
          },
          "metadata": {},
          "execution_count": 70
        }
      ]
    },
    {
      "cell_type": "code",
      "source": [
        "test_loss,test_accuracy=model.evaluate(test_inputs,test_targets)"
      ],
      "metadata": {
        "colab": {
          "base_uri": "https://localhost:8080/"
        },
        "id": "jxP8D9Be2jIE",
        "outputId": "a29bf3ef-9e9c-4797-ca0e-c334e59b4527"
      },
      "id": "jxP8D9Be2jIE",
      "execution_count": 71,
      "outputs": [
        {
          "output_type": "stream",
          "name": "stdout",
          "text": [
            "\u001b[1m14/14\u001b[0m \u001b[32m━━━━━━━━━━━━━━━━━━━━\u001b[0m\u001b[37m\u001b[0m \u001b[1m0s\u001b[0m 3ms/step - accuracy: 0.7897 - loss: 0.3601 \n"
          ]
        }
      ]
    },
    {
      "cell_type": "code",
      "source": [],
      "metadata": {
        "id": "3IzCqgjy2jK0"
      },
      "id": "3IzCqgjy2jK0",
      "execution_count": null,
      "outputs": []
    },
    {
      "cell_type": "code",
      "source": [],
      "metadata": {
        "id": "kIJXvzkK2jOT"
      },
      "id": "kIJXvzkK2jOT",
      "execution_count": null,
      "outputs": []
    }
  ],
  "metadata": {
    "kernelspec": {
      "display_name": "Python 3",
      "name": "python3"
    },
    "language_info": {
      "name": "python"
    },
    "required_libs": [],
    "colab": {
      "provenance": []
    }
  },
  "nbformat": 4,
  "nbformat_minor": 5
}