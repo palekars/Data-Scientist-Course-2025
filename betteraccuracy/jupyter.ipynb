{
  "cells": [
    {
      "cell_type": "code",
      "source": [
        "import numpy as np\n",
        "import pandas as pd\n",
        "import matplotlib.pyplot as plt\n",
        "import seaborn as sns\n",
        "import tensorflow as tf\n",
        "from tensorflow import keras\n",
        "from sklearn.model_selection import train_test_split\n",
        "from sklearn.preprocessing import StandardScaler"
      ],
      "metadata": {
        "id": "0EWNsYtxun1Y"
      },
      "id": "0EWNsYtxun1Y",
      "execution_count": 29,
      "outputs": []
    },
    {
      "cell_type": "code",
      "source": [],
      "metadata": {
        "id": "0ai1--Z1un31"
      },
      "id": "0ai1--Z1un31",
      "execution_count": null,
      "outputs": []
    },
    {
      "cell_type": "code",
      "source": [],
      "metadata": {
        "id": "UrtqT7Jyun6W"
      },
      "id": "UrtqT7Jyun6W",
      "execution_count": null,
      "outputs": []
    },
    {
      "cell_type": "code",
      "source": [],
      "metadata": {
        "id": "QUK2wTS5un87"
      },
      "id": "QUK2wTS5un87",
      "execution_count": null,
      "outputs": []
    },
    {
      "cell_type": "code",
      "source": [],
      "metadata": {
        "id": "ApbuD-5uun_b"
      },
      "id": "ApbuD-5uun_b",
      "execution_count": null,
      "outputs": []
    },
    {
      "cell_type": "code",
      "source": [],
      "metadata": {
        "id": "QjwdT2OcuoCM"
      },
      "id": "QjwdT2OcuoCM",
      "execution_count": null,
      "outputs": []
    },
    {
      "cell_type": "code",
      "source": [],
      "metadata": {
        "id": "tqkOEdkguoE_"
      },
      "id": "tqkOEdkguoE_",
      "execution_count": null,
      "outputs": []
    },
    {
      "cell_type": "code",
      "source": [],
      "metadata": {
        "id": "5ogUp8eXuoHa"
      },
      "id": "5ogUp8eXuoHa",
      "execution_count": null,
      "outputs": []
    },
    {
      "cell_type": "code",
      "source": [],
      "metadata": {
        "id": "erqnoi02uoK2"
      },
      "id": "erqnoi02uoK2",
      "execution_count": null,
      "outputs": []
    },
    {
      "cell_type": "code",
      "metadata": {
        "id": "9107d5f2"
      },
      "source": [
        "import pandas as pd\n",
        "\n",
        "raw_csv_data = pd.read_csv('/content/Audiobooks_data.csv',delimiter=',')\n",
        "unscaled_input_all=raw_csv_data.iloc[:,1:-1]\n",
        "target_all=raw_csv_data.iloc[:,-1]"
      ],
      "id": "9107d5f2",
      "execution_count": 32,
      "outputs": []
    },
    {
      "cell_type": "code",
      "source": [
        "#Balance the data set"
      ],
      "metadata": {
        "id": "Lo72gCVHyAl_"
      },
      "id": "Lo72gCVHyAl_",
      "execution_count": null,
      "outputs": []
    },
    {
      "cell_type": "code",
      "source": [
        "num_one_targets=int(np.sum(target_all))\n",
        "zero_targets_counter=0\n",
        "indices_to_remove=[]"
      ],
      "metadata": {
        "id": "XTeAIPZ3yApF"
      },
      "id": "XTeAIPZ3yApF",
      "execution_count": 33,
      "outputs": []
    },
    {
      "cell_type": "code",
      "source": [
        "for i in range(target_all.shape[0]):\n",
        "  if target_all[i]==0:\n",
        "    zero_targets_counter+=1\n",
        "    if zero_targets_counter>num_one_targets:\n",
        "      indices_to_remove.append(i)"
      ],
      "metadata": {
        "id": "KXsoVDPCyAr3"
      },
      "id": "KXsoVDPCyAr3",
      "execution_count": 34,
      "outputs": []
    },
    {
      "cell_type": "code",
      "source": [
        "unscled_inputs_equal_priors=unscaled_input_all.drop(indices_to_remove,axis=0)\n",
        "target_equal_priors=target_all.drop(indices_to_remove,axis=0).reset_index(drop=True)"
      ],
      "metadata": {
        "id": "J_gNmrFmyAuu"
      },
      "id": "J_gNmrFmyAuu",
      "execution_count": 43,
      "outputs": []
    },
    {
      "cell_type": "code",
      "source": [
        "#Standardize the inputs\n",
        "scaled_inputs=StandardScaler().fit_transform(unscled_inputs_equal_priors)"
      ],
      "metadata": {
        "id": "MjdeWdgVyAxL"
      },
      "id": "MjdeWdgVyAxL",
      "execution_count": 36,
      "outputs": []
    },
    {
      "cell_type": "code",
      "source": [
        "#shuffle the data\n",
        "shuffled_indices=np.arange(scaled_inputs.shape[0])\n",
        "np.random.shuffle(shuffled_indices)"
      ],
      "metadata": {
        "id": "pwBILiFSyA0S"
      },
      "id": "pwBILiFSyA0S",
      "execution_count": 40,
      "outputs": []
    },
    {
      "cell_type": "code",
      "source": [
        "shuffled_inputs=scaled_inputs[shuffled_indices]\n",
        "shuffled_targets=target_equal_priors[shuffled_indices]"
      ],
      "metadata": {
        "id": "fICV7cspyA3s"
      },
      "id": "fICV7cspyA3s",
      "execution_count": 45,
      "outputs": []
    },
    {
      "cell_type": "code",
      "source": [
        "sample_count=shuffled_inputs.shape[0]\n",
        "train_sample_count=int(0.8*sample_count)\n",
        "validation_sample_count=int(0.1*sample_count)\n",
        "test_sample_count=sample_count-train_sample_count-validation_sample_count"
      ],
      "metadata": {
        "id": "5APplburztam"
      },
      "id": "5APplburztam",
      "execution_count": 46,
      "outputs": []
    },
    {
      "cell_type": "code",
      "source": [
        "\n",
        "train_inputs=shuffled_inputs[:train_sample_count]\n",
        "train_targets=shuffled_targets[:train_sample_count]"
      ],
      "metadata": {
        "id": "_w2-LUFxztdk"
      },
      "id": "_w2-LUFxztdk",
      "execution_count": 47,
      "outputs": []
    },
    {
      "cell_type": "code",
      "source": [
        "validattion_inputs=shuffled_inputs[train_sample_count:train_sample_count+validation_sample_count]\n",
        "validation_targets=shuffled_targets[train_sample_count:train_sample_count+validation_sample_count]"
      ],
      "metadata": {
        "id": "kqQKREVVztif"
      },
      "id": "kqQKREVVztif",
      "execution_count": 49,
      "outputs": []
    },
    {
      "cell_type": "code",
      "source": [
        "test_inputs=shuffled_inputs[train_sample_count+validation_sample_count:]\n",
        "test_targets=shuffled_targets[train_sample_count+validation_sample_count:]"
      ],
      "metadata": {
        "id": "nerLGmGj0fsP"
      },
      "id": "nerLGmGj0fsP",
      "execution_count": 50,
      "outputs": []
    },
    {
      "cell_type": "code",
      "source": [
        "np.savez('Audiobooks_data_train',inputs=train_inputs,targets=train_targets)\n",
        "np.savez('Audiobooks_data_validation',inputs=validattion_inputs,targets=validation_targets)\n",
        "np.savez('Audiobooks_data_test',inputs=test_inputs,targets=test_targets)"
      ],
      "metadata": {
        "id": "Jz9ATA9D0f4M"
      },
      "id": "Jz9ATA9D0f4M",
      "execution_count": 51,
      "outputs": []
    },
    {
      "cell_type": "code",
      "source": [
        "npz=np.load('Audiobooks_data_train.npz')\n",
        "train_inputs=npz['inputs'].astype(float)\n",
        "train_targets=npz['targets'].astype(np.int32)"
      ],
      "metadata": {
        "id": "Ulk5RM4C0f7n"
      },
      "id": "Ulk5RM4C0f7n",
      "execution_count": 59,
      "outputs": []
    },
    {
      "cell_type": "code",
      "source": [
        "npz=np.load('Audiobooks_data_validation.npz')\n",
        "validation_inputs=npz['inputs'].astype(float)\n",
        "validation_targets=npz['targets'].astype(np.int32)\n",
        "\n",
        "validation_test=np.load('Audiobooks_data_test.npz')\n",
        "test_inputs=validation_test['inputs'].astype(float)\n",
        "test_targets=validation_test['targets'].astype(np.int32)"
      ],
      "metadata": {
        "id": "Oe1v-k5Dztl9"
      },
      "id": "Oe1v-k5Dztl9",
      "execution_count": 60,
      "outputs": []
    },
    {
      "cell_type": "code",
      "source": [
        "input_size=10\n",
        "output_size=2\n",
        "hidden_layer_size=50\n",
        "model=tf.keras.Sequential([\n",
        "    tf.keras.layers.Dense(hidden_layer_size,activation='relu', input_shape=(input_size,)),\n",
        "    tf.keras.layers.Dense(hidden_layer_size,activation='relu'),\n",
        "    tf.keras.layers.Dense(output_size,activation='softmax')\n",
        "])\n",
        "model.compile(optimizer='adam',loss='sparse_categorical_crossentropy',metrics=['accuracy'])"
      ],
      "metadata": {
        "colab": {
          "base_uri": "https://localhost:8080/"
        },
        "id": "BGkHVdJt2jCv",
        "outputId": "ac74a4c3-0569-4474-a2a5-01e9e1d2f990"
      },
      "id": "BGkHVdJt2jCv",
      "execution_count": 69,
      "outputs": [
        {
          "output_type": "stream",
          "name": "stderr",
          "text": [
            "/usr/local/lib/python3.12/dist-packages/keras/src/layers/core/dense.py:93: UserWarning: Do not pass an `input_shape`/`input_dim` argument to a layer. When using Sequential models, prefer using an `Input(shape)` object as the first layer in the model instead.\n",
            "  super().__init__(activity_regularizer=activity_regularizer, **kwargs)\n"
          ]
        }
      ]
    },
    {
      "cell_type": "code",
      "source": [
        "batchsize=100\n",
        "max_epochs=100\n",
        "early_stopping=tf.keras.callbacks.EarlyStopping(patience=2)\n",
        "model.fit(train_inputs,\n",
        "          train_targets,\n",
        "          batch_size=batchsize,\n",
        "          epochs=max_epochs,\n",
        "          callbacks=[early_stopping],\n",
        "          validation_data=(validation_inputs,validation_targets),\n",
        "          verbose=2)\n"
      ],
      "metadata": {
        "colab": {
          "base_uri": "https://localhost:8080/"
        },
        "id": "cgjFqElV2jFv",
        "outputId": "c594f382-6f5a-4539-f8ec-7d2670bfbe68"
      },
      "id": "cgjFqElV2jFv",
      "execution_count": 70,
      "outputs": [
        {
          "output_type": "stream",
          "name": "stdout",
          "text": [
            "Epoch 1/100\n",
            "36/36 - 1s - 37ms/step - accuracy: 0.7047 - loss: 0.5564 - val_accuracy: 0.7852 - val_loss: 0.4711\n",
            "Epoch 2/100\n",
            "36/36 - 0s - 13ms/step - accuracy: 0.7703 - loss: 0.4479 - val_accuracy: 0.8009 - val_loss: 0.4090\n",
            "Epoch 3/100\n",
            "36/36 - 0s - 9ms/step - accuracy: 0.7896 - loss: 0.4055 - val_accuracy: 0.8054 - val_loss: 0.3841\n",
            "Epoch 4/100\n",
            "36/36 - 0s - 8ms/step - accuracy: 0.7969 - loss: 0.3837 - val_accuracy: 0.8233 - val_loss: 0.3642\n",
            "Epoch 5/100\n",
            "36/36 - 0s - 9ms/step - accuracy: 0.7999 - loss: 0.3705 - val_accuracy: 0.8188 - val_loss: 0.3545\n",
            "Epoch 6/100\n",
            "36/36 - 0s - 4ms/step - accuracy: 0.8108 - loss: 0.3605 - val_accuracy: 0.8233 - val_loss: 0.3425\n",
            "Epoch 7/100\n",
            "36/36 - 0s - 8ms/step - accuracy: 0.8106 - loss: 0.3556 - val_accuracy: 0.8031 - val_loss: 0.3555\n",
            "Epoch 8/100\n",
            "36/36 - 0s - 4ms/step - accuracy: 0.8066 - loss: 0.3509 - val_accuracy: 0.8121 - val_loss: 0.3435\n"
          ]
        },
        {
          "output_type": "execute_result",
          "data": {
            "text/plain": [
              "<keras.src.callbacks.history.History at 0x7f2c680e5d00>"
            ]
          },
          "metadata": {},
          "execution_count": 70
        }
      ]
    },
    {
      "cell_type": "code",
      "source": [
        "test_loss,test_accuracy=model.evaluate(test_inputs,test_targets)"
      ],
      "metadata": {
        "colab": {
          "base_uri": "https://localhost:8080/"
        },
        "id": "jxP8D9Be2jIE",
        "outputId": "a29bf3ef-9e9c-4797-ca0e-c334e59b4527"
      },
      "id": "jxP8D9Be2jIE",
      "execution_count": 71,
      "outputs": [
        {
          "output_type": "stream",
          "name": "stdout",
          "text": [
            "\u001b[1m14/14\u001b[0m \u001b[32m━━━━━━━━━━━━━━━━━━━━\u001b[0m\u001b[37m\u001b[0m \u001b[1m0s\u001b[0m 3ms/step - accuracy: 0.7897 - loss: 0.3601 \n"
          ]
        }
      ]
    },
    {
      "cell_type": "code",
      "source": [],
      "metadata": {
        "id": "3IzCqgjy2jK0"
      },
      "id": "3IzCqgjy2jK0",
      "execution_count": null,
      "outputs": []
    },
    {
      "cell_type": "code",
      "source": [],
      "metadata": {
        "id": "kIJXvzkK2jOT"
      },
      "id": "kIJXvzkK2jOT",
      "execution_count": null,
      "outputs": []
    },
    {
      "cell_type": "markdown",
      "metadata": {
        "id": "76e3dd00"
      },
      "source": [
        "# Task\n",
        "Improve the accuracy of the model using the data from \"/content/Audiobooks_data.csv\"."
      ],
      "id": "76e3dd00"
    },
    {
      "cell_type": "markdown",
      "metadata": {
        "id": "9fe306a0"
      },
      "source": [
        "## Hyperparameter tuning\n",
        "\n",
        "### Subtask:\n",
        "Experiment with different hyperparameters such as learning rate, batch size, number of epochs, and the number and size of hidden layers to find optimal values.\n"
      ],
      "id": "9fe306a0"
    },
    {
      "cell_type": "markdown",
      "metadata": {
        "id": "7b9750cf"
      },
      "source": [
        "**Reasoning**:\n",
        "Define the hyperparameter search space and iterate through the combinations to train and evaluate models.\n",
        "\n"
      ],
      "id": "7b9750cf"
    },
    {
      "cell_type": "code",
      "metadata": {
        "colab": {
          "base_uri": "https://localhost:8080/"
        },
        "id": "cf923cc5",
        "outputId": "558c93dd-4bbd-4420-8e3b-e9e603fd7102"
      },
      "source": [
        "learning_rates = [0.001, 0.01]\n",
        "batch_sizes = [64, 128]\n",
        "epochs = [50, 100]\n",
        "hidden_layer_nums = [1, 2]\n",
        "hidden_layer_sizes = [64, 128]\n",
        "\n",
        "best_accuracy = 0\n",
        "best_hyperparameters = {}\n",
        "\n",
        "for lr in learning_rates:\n",
        "    for bs in batch_sizes:\n",
        "        for ep in epochs:\n",
        "            for hln in hidden_layer_nums:\n",
        "                for hls in hidden_layer_sizes:\n",
        "                    print(f\"Training with LR: {lr}, Batch Size: {bs}, Epochs: {ep}, Hidden Layers: {hln}, Hidden Layer Size: {hls}\")\n",
        "\n",
        "                    model = tf.keras.Sequential()\n",
        "                    model.add(tf.keras.layers.Input(shape=(input_size,)))\n",
        "                    for _ in range(hln):\n",
        "                        model.add(tf.keras.layers.Dense(hls, activation='relu'))\n",
        "                    model.add(tf.keras.layers.Dense(output_size, activation='softmax'))\n",
        "\n",
        "                    optimizer = tf.keras.optimizers.Adam(learning_rate=lr)\n",
        "                    model.compile(optimizer=optimizer, loss='sparse_categorical_crossentropy', metrics=['accuracy'])\n",
        "\n",
        "                    early_stopping = tf.keras.callbacks.EarlyStopping(patience=2)\n",
        "\n",
        "                    history = model.fit(train_inputs,\n",
        "                                         train_targets,\n",
        "                                         batch_size=bs,\n",
        "                                         epochs=ep,\n",
        "                                         callbacks=[early_stopping],\n",
        "                                         validation_data=(validation_inputs, validation_targets),\n",
        "                                         verbose=0)\n",
        "\n",
        "                    val_loss, val_accuracy = model.evaluate(validation_inputs, validation_targets, verbose=0)\n",
        "\n",
        "                    print(f\"Validation Accuracy: {val_accuracy}\")\n",
        "\n",
        "                    if val_accuracy > best_accuracy:\n",
        "                        best_accuracy = val_accuracy\n",
        "                        best_hyperparameters = {\n",
        "                            'learning_rate': lr,\n",
        "                            'batch_size': bs,\n",
        "                            'epochs': ep,\n",
        "                            'hidden_layers': hln,\n",
        "                            'hidden_layer_size': hls\n",
        "                        }\n",
        "\n",
        "print(\"\\nBest Hyperparameters:\")\n",
        "print(best_hyperparameters)\n",
        "print(f\"Best Validation Accuracy: {best_accuracy}\")"
      ],
      "id": "cf923cc5",
      "execution_count": 72,
      "outputs": [
        {
          "output_type": "stream",
          "name": "stdout",
          "text": [
            "Training with LR: 0.001, Batch Size: 64, Epochs: 50, Hidden Layers: 1, Hidden Layer Size: 64\n",
            "Validation Accuracy: 0.7829977869987488\n",
            "Training with LR: 0.001, Batch Size: 64, Epochs: 50, Hidden Layers: 1, Hidden Layer Size: 128\n",
            "Validation Accuracy: 0.8255033493041992\n",
            "Training with LR: 0.001, Batch Size: 64, Epochs: 50, Hidden Layers: 2, Hidden Layer Size: 64\n",
            "Validation Accuracy: 0.827740490436554\n",
            "Training with LR: 0.001, Batch Size: 64, Epochs: 50, Hidden Layers: 2, Hidden Layer Size: 128\n",
            "Validation Accuracy: 0.827740490436554\n",
            "Training with LR: 0.001, Batch Size: 64, Epochs: 100, Hidden Layers: 1, Hidden Layer Size: 64\n",
            "Validation Accuracy: 0.7964205741882324\n",
            "Training with LR: 0.001, Batch Size: 64, Epochs: 100, Hidden Layers: 1, Hidden Layer Size: 128\n",
            "Validation Accuracy: 0.8076062798500061\n",
            "Training with LR: 0.001, Batch Size: 64, Epochs: 100, Hidden Layers: 2, Hidden Layer Size: 64\n",
            "Validation Accuracy: 0.8344519138336182\n",
            "Training with LR: 0.001, Batch Size: 64, Epochs: 100, Hidden Layers: 2, Hidden Layer Size: 128\n",
            "Validation Accuracy: 0.8299776315689087\n",
            "Training with LR: 0.001, Batch Size: 128, Epochs: 50, Hidden Layers: 1, Hidden Layer Size: 64\n",
            "Validation Accuracy: 0.8031319975852966\n",
            "Training with LR: 0.001, Batch Size: 128, Epochs: 50, Hidden Layers: 1, Hidden Layer Size: 128\n",
            "Validation Accuracy: 0.818791925907135\n",
            "Training with LR: 0.001, Batch Size: 128, Epochs: 50, Hidden Layers: 2, Hidden Layer Size: 64\n",
            "Validation Accuracy: 0.8210290670394897\n",
            "Training with LR: 0.001, Batch Size: 128, Epochs: 50, Hidden Layers: 2, Hidden Layer Size: 128\n",
            "Validation Accuracy: 0.8478747010231018\n",
            "Training with LR: 0.001, Batch Size: 128, Epochs: 100, Hidden Layers: 1, Hidden Layer Size: 64\n",
            "Validation Accuracy: 0.8255033493041992\n",
            "Training with LR: 0.001, Batch Size: 128, Epochs: 100, Hidden Layers: 1, Hidden Layer Size: 128\n",
            "Validation Accuracy: 0.8165547847747803\n",
            "Training with LR: 0.001, Batch Size: 128, Epochs: 100, Hidden Layers: 2, Hidden Layer Size: 64\n",
            "Validation Accuracy: 0.8210290670394897\n",
            "Training with LR: 0.001, Batch Size: 128, Epochs: 100, Hidden Layers: 2, Hidden Layer Size: 128\n",
            "Validation Accuracy: 0.8098434209823608\n",
            "Training with LR: 0.01, Batch Size: 64, Epochs: 50, Hidden Layers: 1, Hidden Layer Size: 64\n",
            "Validation Accuracy: 0.8255033493041992\n",
            "Training with LR: 0.01, Batch Size: 64, Epochs: 50, Hidden Layers: 1, Hidden Layer Size: 128\n",
            "Validation Accuracy: 0.8299776315689087\n",
            "Training with LR: 0.01, Batch Size: 64, Epochs: 50, Hidden Layers: 2, Hidden Layer Size: 64\n",
            "Validation Accuracy: 0.8232662081718445\n",
            "Training with LR: 0.01, Batch Size: 64, Epochs: 50, Hidden Layers: 2, Hidden Layer Size: 128\n",
            "Validation Accuracy: 0.8165547847747803\n",
            "Training with LR: 0.01, Batch Size: 64, Epochs: 100, Hidden Layers: 1, Hidden Layer Size: 64\n",
            "Validation Accuracy: 0.8165547847747803\n",
            "Training with LR: 0.01, Batch Size: 64, Epochs: 100, Hidden Layers: 1, Hidden Layer Size: 128\n",
            "Validation Accuracy: 0.8322147727012634\n",
            "Training with LR: 0.01, Batch Size: 64, Epochs: 100, Hidden Layers: 2, Hidden Layer Size: 64\n",
            "Validation Accuracy: 0.8210290670394897\n",
            "Training with LR: 0.01, Batch Size: 64, Epochs: 100, Hidden Layers: 2, Hidden Layer Size: 128\n",
            "Validation Accuracy: 0.8322147727012634\n",
            "Training with LR: 0.01, Batch Size: 128, Epochs: 50, Hidden Layers: 1, Hidden Layer Size: 64\n",
            "Validation Accuracy: 0.7695749402046204\n",
            "Training with LR: 0.01, Batch Size: 128, Epochs: 50, Hidden Layers: 1, Hidden Layer Size: 128\n",
            "Validation Accuracy: 0.8255033493041992\n",
            "Training with LR: 0.01, Batch Size: 128, Epochs: 50, Hidden Layers: 2, Hidden Layer Size: 64\n",
            "Validation Accuracy: 0.8120805621147156\n",
            "Training with LR: 0.01, Batch Size: 128, Epochs: 50, Hidden Layers: 2, Hidden Layer Size: 128\n",
            "Validation Accuracy: 0.8210290670394897\n",
            "Training with LR: 0.01, Batch Size: 128, Epochs: 100, Hidden Layers: 1, Hidden Layer Size: 64\n",
            "Validation Accuracy: 0.8299776315689087\n",
            "Training with LR: 0.01, Batch Size: 128, Epochs: 100, Hidden Layers: 1, Hidden Layer Size: 128\n",
            "Validation Accuracy: 0.7762863636016846\n",
            "Training with LR: 0.01, Batch Size: 128, Epochs: 100, Hidden Layers: 2, Hidden Layer Size: 64\n",
            "Validation Accuracy: 0.8322147727012634\n",
            "Training with LR: 0.01, Batch Size: 128, Epochs: 100, Hidden Layers: 2, Hidden Layer Size: 128\n",
            "Validation Accuracy: 0.7718120813369751\n",
            "\n",
            "Best Hyperparameters:\n",
            "{'learning_rate': 0.001, 'batch_size': 128, 'epochs': 50, 'hidden_layers': 2, 'hidden_layer_size': 128}\n",
            "Best Validation Accuracy: 0.8478747010231018\n"
          ]
        }
      ]
    },
    {
      "cell_type": "markdown",
      "metadata": {
        "id": "2089fd12"
      },
      "source": [
        "## Regularization\n",
        "\n",
        "### Subtask:\n",
        "Implement regularization techniques like L1 or L2 regularization, or dropout layers, to prevent overfitting.\n"
      ],
      "id": "2089fd12"
    },
    {
      "cell_type": "markdown",
      "metadata": {
        "id": "87589592"
      },
      "source": [
        "**Reasoning**:\n",
        "Define a new sequential model using the best hyperparameters and add dropout layers to prevent overfitting.\n",
        "\n"
      ],
      "id": "87589592"
    },
    {
      "cell_type": "code",
      "metadata": {
        "colab": {
          "base_uri": "https://localhost:8080/"
        },
        "id": "9f06aae5",
        "outputId": "fb416a1a-97f4-4f08-ce1a-94f83c9e14e5"
      },
      "source": [
        "input_size = train_inputs.shape[1]\n",
        "output_size = 2\n",
        "best_hyperparameters = {'learning_rate': 0.001, 'batch_size': 128, 'epochs': 50, 'hidden_layers': 2, 'hidden_layer_size': 128}\n",
        "\n",
        "model_regularized = tf.keras.Sequential([\n",
        "    tf.keras.layers.Input(shape=(input_size,)),\n",
        "    tf.keras.layers.Dense(best_hyperparameters['hidden_layer_size'], activation='relu'),\n",
        "    tf.keras.layers.Dropout(0.2),\n",
        "    tf.keras.layers.Dense(best_hyperparameters['hidden_layer_size'], activation='relu'),\n",
        "    tf.keras.layers.Dropout(0.2),\n",
        "    tf.keras.layers.Dense(output_size, activation='softmax')\n",
        "])\n",
        "\n",
        "optimizer = tf.keras.optimizers.Adam(learning_rate=best_hyperparameters['learning_rate'])\n",
        "model_regularized.compile(optimizer=optimizer, loss='sparse_categorical_crossentropy', metrics=['accuracy'])\n",
        "\n",
        "early_stopping = tf.keras.callbacks.EarlyStopping(patience=2)\n",
        "\n",
        "model_regularized.fit(train_inputs,\n",
        "                      train_targets,\n",
        "                      batch_size=best_hyperparameters['batch_size'],\n",
        "                      epochs=best_hyperparameters['epochs'],\n",
        "                      callbacks=[early_stopping],\n",
        "                      validation_data=(validation_inputs, validation_targets),\n",
        "                      verbose=2)"
      ],
      "id": "9f06aae5",
      "execution_count": 73,
      "outputs": [
        {
          "output_type": "stream",
          "name": "stdout",
          "text": [
            "Epoch 1/50\n",
            "28/28 - 3s - 93ms/step - accuracy: 0.7024 - loss: 0.5513 - val_accuracy: 0.7852 - val_loss: 0.4464\n",
            "Epoch 2/50\n",
            "28/28 - 0s - 15ms/step - accuracy: 0.7583 - loss: 0.4368 - val_accuracy: 0.7942 - val_loss: 0.3952\n",
            "Epoch 3/50\n",
            "28/28 - 0s - 11ms/step - accuracy: 0.7731 - loss: 0.4145 - val_accuracy: 0.8009 - val_loss: 0.3746\n",
            "Epoch 4/50\n",
            "28/28 - 1s - 23ms/step - accuracy: 0.7754 - loss: 0.3999 - val_accuracy: 0.8054 - val_loss: 0.3626\n",
            "Epoch 5/50\n",
            "28/28 - 0s - 11ms/step - accuracy: 0.7782 - loss: 0.3854 - val_accuracy: 0.8098 - val_loss: 0.3531\n",
            "Epoch 6/50\n",
            "28/28 - 1s - 24ms/step - accuracy: 0.7888 - loss: 0.3843 - val_accuracy: 0.7897 - val_loss: 0.3562\n",
            "Epoch 7/50\n",
            "28/28 - 0s - 9ms/step - accuracy: 0.7988 - loss: 0.3715 - val_accuracy: 0.8233 - val_loss: 0.3373\n",
            "Epoch 8/50\n",
            "28/28 - 0s - 7ms/step - accuracy: 0.7997 - loss: 0.3696 - val_accuracy: 0.8166 - val_loss: 0.3458\n",
            "Epoch 9/50\n",
            "28/28 - 0s - 11ms/step - accuracy: 0.7966 - loss: 0.3646 - val_accuracy: 0.8233 - val_loss: 0.3327\n",
            "Epoch 10/50\n",
            "28/28 - 0s - 12ms/step - accuracy: 0.7969 - loss: 0.3623 - val_accuracy: 0.8143 - val_loss: 0.3344\n",
            "Epoch 11/50\n",
            "28/28 - 0s - 7ms/step - accuracy: 0.8011 - loss: 0.3552 - val_accuracy: 0.8233 - val_loss: 0.3294\n",
            "Epoch 12/50\n",
            "28/28 - 0s - 7ms/step - accuracy: 0.7972 - loss: 0.3608 - val_accuracy: 0.8210 - val_loss: 0.3345\n",
            "Epoch 13/50\n",
            "28/28 - 0s - 12ms/step - accuracy: 0.7949 - loss: 0.3564 - val_accuracy: 0.8367 - val_loss: 0.3281\n",
            "Epoch 14/50\n",
            "28/28 - 0s - 10ms/step - accuracy: 0.8033 - loss: 0.3513 - val_accuracy: 0.8322 - val_loss: 0.3368\n",
            "Epoch 15/50\n",
            "28/28 - 0s - 10ms/step - accuracy: 0.8039 - loss: 0.3480 - val_accuracy: 0.8210 - val_loss: 0.3323\n"
          ]
        },
        {
          "output_type": "execute_result",
          "data": {
            "text/plain": [
              "<keras.src.callbacks.history.History at 0x7f2c61da9dc0>"
            ]
          },
          "metadata": {},
          "execution_count": 73
        }
      ]
    },
    {
      "cell_type": "markdown",
      "metadata": {
        "id": "35849442"
      },
      "source": [
        "**Reasoning**:\n",
        "Evaluate the regularized model on the validation set to assess its performance after applying dropout.\n",
        "\n"
      ],
      "id": "35849442"
    },
    {
      "cell_type": "code",
      "metadata": {
        "colab": {
          "base_uri": "https://localhost:8080/"
        },
        "id": "4ffa9647",
        "outputId": "cda18e9b-19e4-4942-9fa9-5bc307dbc3d2"
      },
      "source": [
        "val_loss_regularized, val_accuracy_regularized = model_regularized.evaluate(validation_inputs, validation_targets, verbose=0)\n",
        "print(f\"Validation Loss (Regularized Model): {val_loss_regularized}\")\n",
        "print(f\"Validation Accuracy (Regularized Model): {val_accuracy_regularized}\")"
      ],
      "id": "4ffa9647",
      "execution_count": 74,
      "outputs": [
        {
          "output_type": "stream",
          "name": "stdout",
          "text": [
            "Validation Loss (Regularized Model): 0.33225682377815247\n",
            "Validation Accuracy (Regularized Model): 0.8210290670394897\n"
          ]
        }
      ]
    },
    {
      "cell_type": "markdown",
      "metadata": {
        "id": "d8374648"
      },
      "source": [
        "## Evaluate model\n",
        "\n",
        "### Subtask:\n",
        "Evaluate the model's performance on the test set using appropriate metrics like accuracy, precision, recall, and F1-score.\n"
      ],
      "id": "d8374648"
    },
    {
      "cell_type": "markdown",
      "metadata": {
        "id": "ebddf04d"
      },
      "source": [
        "**Reasoning**:\n",
        "Evaluate the regularized model on the test set and calculate precision, recall, and F1-score to assess its performance.\n",
        "\n"
      ],
      "id": "ebddf04d"
    },
    {
      "cell_type": "code",
      "metadata": {
        "colab": {
          "base_uri": "https://localhost:8080/"
        },
        "id": "c1a8aa0f",
        "outputId": "380395ea-ada2-40ee-8b40-5d49f3c69961"
      },
      "source": [
        "from sklearn.metrics import precision_score, recall_score, f1_score\n",
        "\n",
        "test_loss, test_accuracy = model_regularized.evaluate(test_inputs, test_targets, verbose=0)\n",
        "print(f\"Test Loss: {test_loss}\")\n",
        "print(f\"Test Accuracy: {test_accuracy}\")\n",
        "\n",
        "test_predictions = model_regularized.predict(test_inputs)\n",
        "predicted_classes = np.argmax(test_predictions, axis=1)\n",
        "\n",
        "precision = precision_score(test_targets, predicted_classes)\n",
        "recall = recall_score(test_targets, predicted_classes)\n",
        "f1 = f1_score(test_targets, predicted_classes)\n",
        "\n",
        "print(f\"Precision: {precision}\")\n",
        "print(f\"Recall: {recall}\")\n",
        "print(f\"F1-score: {f1}\")"
      ],
      "id": "c1a8aa0f",
      "execution_count": 75,
      "outputs": [
        {
          "output_type": "stream",
          "name": "stdout",
          "text": [
            "Test Loss: 0.3474156856536865\n",
            "Test Accuracy: 0.8214285969734192\n",
            "\u001b[1m14/14\u001b[0m \u001b[32m━━━━━━━━━━━━━━━━━━━━\u001b[0m\u001b[37m\u001b[0m \u001b[1m0s\u001b[0m 10ms/step\n",
            "Precision: 0.8195121951219512\n",
            "Recall: 0.7962085308056872\n",
            "F1-score: 0.8076923076923077\n"
          ]
        }
      ]
    },
    {
      "cell_type": "markdown",
      "metadata": {
        "id": "56b59da7"
      },
      "source": [
        "## Summary:\n",
        "\n",
        "### Data Analysis Key Findings\n",
        "\n",
        "*   Hyperparameter tuning identified the best combination as a learning rate of 0.001, batch size of 128, 50 epochs, 2 hidden layers, and a hidden layer size of 128, achieving a best validation accuracy of approximately 0.8479.\n",
        "*   Implementing regularization with Dropout layers (rate 0.2) after each of the two hidden layers resulted in a validation accuracy of approximately 0.821 and a validation loss of approximately 0.332.\n",
        "*   Evaluating the regularized model on the test set yielded a test accuracy of approximately 0.821, a test loss of approximately 0.347, a precision of approximately 0.820, a recall of approximately 0.796, and an F1-score of approximately 0.808.\n",
        "\n",
        "### Insights or Next Steps\n",
        "\n",
        "*   The regularization technique (Dropout) maintained a similar accuracy on the validation and test sets (around 82.1%) compared to the peak validation accuracy found during hyperparameter tuning without explicit regularization (around 84.79%). This suggests the Dropout helped in achieving better generalization to unseen data, though the peak accuracy was slightly lower.\n",
        "*   Further steps could involve exploring different regularization techniques, adjusting the dropout rate, or performing more extensive hyperparameter tuning specifically for the regularized model to potentially improve performance metrics on the test set.\n"
      ],
      "id": "56b59da7"
    }
  ],
  "metadata": {
    "kernelspec": {
      "display_name": "Python 3",
      "name": "python3"
    },
    "language_info": {
      "name": "python"
    },
    "required_libs": [],
    "colab": {
      "provenance": []
    }
  },
  "nbformat": 4,
  "nbformat_minor": 5
}